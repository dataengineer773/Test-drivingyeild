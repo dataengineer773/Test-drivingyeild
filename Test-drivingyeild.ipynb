{
 "cells": [
  {
   "cell_type": "code",
   "execution_count": 1,
   "id": "61c85598-feb2-485b-a17f-4feb88e2fbbf",
   "metadata": {},
   "outputs": [],
   "source": [
    "def sub_gen():\n",
    "    yield 1.1\n",
    "    yield 1.2"
   ]
  },
  {
   "cell_type": "code",
   "execution_count": 2,
   "id": "a377afd3-7f66-48e5-b95b-b2f86e2e73aa",
   "metadata": {},
   "outputs": [],
   "source": [
    "def gen():\n",
    "    yield 1.1\n",
    "    yield from sub_gen()\n",
    "    yield 2"
   ]
  },
  {
   "cell_type": "code",
   "execution_count": 3,
   "id": "41d22854-ca33-4387-a681-ba3c4d6fb8d5",
   "metadata": {},
   "outputs": [
    {
     "name": "stdout",
     "output_type": "stream",
     "text": [
      "1.1\n",
      "1.1\n",
      "1.2\n",
      "2\n"
     ]
    }
   ],
   "source": [
    "for x in gen():\n",
    "    print(x)"
   ]
  },
  {
   "cell_type": "code",
   "execution_count": null,
   "id": "2ff049c1-b020-41d4-b1d0-6161d3ee30b8",
   "metadata": {},
   "outputs": [],
   "source": []
  }
 ],
 "metadata": {
  "kernelspec": {
   "display_name": "Python 3 (ipykernel)",
   "language": "python",
   "name": "python3"
  },
  "language_info": {
   "codemirror_mode": {
    "name": "ipython",
    "version": 3
   },
   "file_extension": ".py",
   "mimetype": "text/x-python",
   "name": "python",
   "nbconvert_exporter": "python",
   "pygments_lexer": "ipython3",
   "version": "3.12.3"
  }
 },
 "nbformat": 4,
 "nbformat_minor": 5
}
